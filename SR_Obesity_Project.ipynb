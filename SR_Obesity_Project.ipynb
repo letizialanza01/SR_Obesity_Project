{
 "cells": [
  {
   "cell_type": "markdown",
   "metadata": {},
   "source": [
    "**SOCIAL RESEARCH: Final Project** \n",
    "\n",
    "**NAME:** Letizia\n",
    "\n",
    "**SURNAME:** Lanza\n",
    "\n",
    "**ID:** VR502321"
   ]
  },
  {
   "cell_type": "code",
   "execution_count": null,
   "metadata": {},
   "outputs": [],
   "source": []
  }
 ],
 "metadata": {
  "language_info": {
   "name": "python"
  }
 },
 "nbformat": 4,
 "nbformat_minor": 2
}
